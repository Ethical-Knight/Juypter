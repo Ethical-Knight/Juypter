{
 "cells": [
  {
   "cell_type": "markdown",
   "id": "d087383c",
   "metadata": {},
   "source": [
    "# Data Science Tools and Ecosystem"
   ]
  },
  {
   "cell_type": "markdown",
   "id": "6dad642c",
   "metadata": {},
   "source": [
    "In this nootbook, Data Science Tools and Ecosystem is Summarized"
   ]
  },
  {
   "cell_type": "markdown",
   "id": "a7b1a679",
   "metadata": {},
   "source": [
    "## introduction"
   ]
  },
  {
   "cell_type": "markdown",
   "id": "3012400e",
   "metadata": {},
   "source": [
    "Some of the popular languages that Data Scientists use are:\n",
    "1. Python\n",
    "2. R\n",
    "3. SQL"
   ]
  },
  {
   "cell_type": "markdown",
   "id": "7daf770e",
   "metadata": {},
   "source": [
    "## Data Science Libraries"
   ]
  },
  {
   "cell_type": "markdown",
   "id": "97dc7fea",
   "metadata": {},
   "source": [
    "Some of the commonly used libraries used by Data Scientists include:\n",
    "\n",
    "1.Numpy\n",
    "2.Pandass\n",
    "3.Matplotlib"
   ]
  },
  {
   "cell_type": "markdown",
   "id": "456b1f03",
   "metadata": {},
   "source": [
    "## Data Science Tools"
   ]
  },
  {
   "cell_type": "markdown",
   "id": "ea783b8d",
   "metadata": {},
   "source": [
    "| Data Science Tools   |\n",
    "|----------------------|\n",
    "| Jupyter Notebook     |\n",
    "| RStudio              |\n",
    "| Visual Studio Code   |"
   ]
  },
  {
   "cell_type": "markdown",
   "id": "4ac1beee",
   "metadata": {},
   "source": [
    "### Evaluating Arithmetic Expressions in Python\n"
   ]
  },
  {
   "cell_type": "markdown",
   "id": "d951e403",
   "metadata": {},
   "source": [
    "In this section, we'll explore some examples of evaluating arithmetic expressions in Python. \n",
    "Arithmetic expressions involve mathematical operations such as addition, subtraction,\n",
    "multiplication, and division, which are fundamental in data science and programming."
   ]
  },
  {
   "cell_type": "code",
   "execution_count": 7,
   "id": "6c4fefb3",
   "metadata": {},
   "outputs": [],
   "source": [
    "# This is a simple arithmetic expression to multiply and then add integers.\n",
    "result = (3 * 4) + 5"
   ]
  },
  {
   "cell_type": "code",
   "execution_count": 8,
   "id": "3d1ec2c5",
   "metadata": {},
   "outputs": [
    {
     "data": {
      "text/plain": [
       "17"
      ]
     },
     "execution_count": 8,
     "metadata": {},
     "output_type": "execute_result"
    }
   ],
   "source": [
    "result"
   ]
  },
  {
   "cell_type": "code",
   "execution_count": 9,
   "id": "772278ef",
   "metadata": {},
   "outputs": [
    {
     "data": {
      "text/plain": [
       "3.3333333333333335"
      ]
     },
     "execution_count": 9,
     "metadata": {},
     "output_type": "execute_result"
    }
   ],
   "source": [
    "# This will convert 200 minutes to hours by dividing by 60.\n",
    "minutes = 200\n",
    "hours = minutes / 60\n",
    "hours"
   ]
  },
  {
   "cell_type": "markdown",
   "id": "f033d799",
   "metadata": {},
   "source": [
    "## Objectives:\n",
    "\n",
    "- Explore popular languages for Data Science.\n",
    "- Discover essential Data Science libraries and tools.\n",
    "- Understand how to evaluate arithmetic expressions in Python.\n",
    "- Learn to convert units, such as minutes to hours, in Python.\n",
    "- Gain insights into Data Science development environments."
   ]
  }
 ],
 "metadata": {
  "kernelspec": {
   "display_name": "Python 3 (ipykernel)",
   "language": "python",
   "name": "python3"
  },
  "language_info": {
   "codemirror_mode": {
    "name": "ipython",
    "version": 3
   },
   "file_extension": ".py",
   "mimetype": "text/x-python",
   "name": "python",
   "nbconvert_exporter": "python",
   "pygments_lexer": "ipython3",
   "version": "3.11.4"
  }
 },
 "nbformat": 4,
 "nbformat_minor": 5
}
